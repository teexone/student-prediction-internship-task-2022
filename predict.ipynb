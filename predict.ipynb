{
 "cells": [
  {
   "cell_type": "code",
   "execution_count": 62,
   "metadata": {},
   "outputs": [],
   "source": [
    "%run eda.ipynb"
   ]
  },
  {
   "cell_type": "code",
   "execution_count": 63,
   "metadata": {},
   "outputs": [],
   "source": [
    "import numpy as np\n",
    "import pandas as pd"
   ]
  },
  {
   "cell_type": "code",
   "execution_count": 64,
   "metadata": {},
   "outputs": [],
   "source": [
    "def predict_for(uid: int):\n",
    "    v = games_of_user(uid)['gid']\n",
    "    A = np.array([[]])\n",
    "    for g in v:\n",
    "        if A.size == 0:\n",
    "            A = corr_matrix[:, g]\n",
    "        else:\n",
    "            A = np.column_stack((A, corr_matrix[:, g]))\n",
    "    return corr_matrix @ A\n",
    "\n",
    "def predict_n_for(uid: int, n):\n",
    "    predicted = predict_for(uid)\n",
    "    games = games_of_user(uid)['gid'].to_numpy()\n",
    "    arr = []\n",
    "    for i in range(predicted.shape[0]):\n",
    "        for j in range(predicted.shape[1]):\n",
    "            arr.append((predicted[i][j], i, j,))\n",
    "    arr.sort(key=lambda x: x[0])\n",
    "    arr.reverse()\n",
    "    arr = np.array(list(map(lambda x: x[1], arr)))\n",
    "    return arr[~np.isin(arr, games)][:n]\n",
    "\n",
    "\n",
    "def predict_for_games(games_: list, n: int):\n",
    "    A = np.array([[]])\n",
    "    for g in games_:\n",
    "        if A.size == 0:\n",
    "            A = corr_matrix[:, g]\n",
    "        else:\n",
    "            A = np.column_stack((A, corr_matrix[:, g]))\n",
    "    predicted = corr_matrix @ A\n",
    "    arr = []\n",
    "    for i in range(predicted.shape[0]):\n",
    "        for j in range(predicted.shape[1]):\n",
    "            arr.append((predicted[i][j], i, j,))\n",
    "    arr.sort(key=lambda x: x[0])\n",
    "    arr.reverse()\n",
    "    arr = np.array(list(map(lambda x: x[1], arr)))\n",
    "    return arr[~np.isin(arr, games_)][:n]\n",
    "\n"
   ]
  },
  {
   "cell_type": "code",
   "execution_count": 65,
   "metadata": {},
   "outputs": [
    {
     "name": "stdout",
     "output_type": "stream",
     "text": [
      "User played:\n",
      "A Hat in Time(2017), Left 4 Dead(2008), Unheard(2019), Doki Doki Literature Club Plus!(2021), Hook(2015), Samsara Room(2020), missed messages(2019)\n",
      "\n",
      "User might also want to play:\n",
      "OMORI(2020), Tomb Raider(2013), A Short Hike(2019), Dying Light(2015), ATRI -My Dear Moments-(2020), Phoenix Wright: Ace Attorney Trilogy(2019), Everlasting Summer(2014), Zup! S(2018), Milk inside a bag of milk inside a bag of milk(2020), The Walking Dead: Season Two(2013)\n"
     ]
    }
   ],
   "source": [
    "usern = 20\n",
    "print('User played:')\n",
    "print(*list(games_of_user(usern)[\"title\"].to_numpy()), sep=', ', end='\\n\\n')\n",
    "print(f'User might also want to play:')\n",
    "print(*list(games[games['gid'].isin(predict_n_for(usern, 10))]['title'].to_numpy()), sep=', ')"
   ]
  },
  {
   "cell_type": "code",
   "execution_count": 80,
   "metadata": {},
   "outputs": [
    {
     "name": "stdout",
     "output_type": "stream",
     "text": [
      "User played:\n",
      "Terraria(2011), Left 4 Dead 2(2009), Euro Truck Simulator 2(2012), Oxygen Not Included(2019), Resident Evil Village(2021)\n",
      "\n",
      "User might also want to play:\n",
      "The Walking Dead(2012), Dying Light(2015), Left 4 Dead(2008), Trine 2: Complete Story(2013), The Supper(2020)\n"
     ]
    }
   ],
   "source": [
    "x = [5, 1, 7, 73, 108]\n",
    "d = []\n",
    "y = user.groupby('uid').gid.apply(list).reset_index()\n",
    "for i in x:\n",
    "    d.append(games[games.gid.isin(y[y.uid == i].gid.tolist()[0])])\n",
    "print('User played:')\n",
    "print(*list(games[games.gid.isin(x)][\"title\"].to_numpy()), sep=', ', end='\\n\\n')\n",
    "print(f'User might also want to play:')\n",
    "print(*list(games[games['gid'].isin(predict_for_games(x, 5))]['title'].to_numpy()), sep=', ')"
   ]
  }
 ],
 "metadata": {
  "interpreter": {
   "hash": "aecd030d4c8316a52bf122072e28f84bcc79844c2684e041fef2e3f1d9f59078"
  },
  "kernelspec": {
   "display_name": "Python 3.10.2 64-bit",
   "language": "python",
   "name": "python3"
  },
  "language_info": {
   "codemirror_mode": {
    "name": "ipython",
    "version": 3
   },
   "file_extension": ".py",
   "mimetype": "text/x-python",
   "name": "python",
   "nbconvert_exporter": "python",
   "pygments_lexer": "ipython3",
   "version": "3.10.2"
  },
  "orig_nbformat": 4
 },
 "nbformat": 4,
 "nbformat_minor": 2
}
