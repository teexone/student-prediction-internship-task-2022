{
 "cells": [
  {
   "cell_type": "code",
   "execution_count": 2,
   "metadata": {},
   "outputs": [],
   "source": [
    "import numpy as np\n",
    "import pandas as pd"
   ]
  },
  {
   "cell_type": "code",
   "execution_count": 3,
   "metadata": {},
   "outputs": [],
   "source": [
    "%run etl.ipynb"
   ]
  },
  {
   "cell_type": "markdown",
   "metadata": {},
   "source": [
    "To inverstigate the correlation between different games, let us derive a correlation Matrix $A$ which is defined as following:\n",
    "$$a_{i, j} = \\text{number of users that bought both these games}$$"
   ]
  },
  {
   "cell_type": "code",
   "execution_count": 11,
   "metadata": {},
   "outputs": [],
   "source": [
    "n = len(games['gid'].index)+1\n",
    "corr_matrix = np.zeros((n, n))\n",
    "cnt = np.zeros(n)\n",
    "for usr in user['uid']:\n",
    "    u = pd.merge(games_of_user(usr).loc[:, ['gid', 'rating']], games[['gid', 'genre']])\n",
    "    for i, (game1, r1, g1) in u.iterrows():\n",
    "        for j, (game2, r2, g2) in u.iterrows():\n",
    "            if game1 != game2:\n",
    "                corr_matrix[int(game1)][int(game2)] += (1 - 1/(r1 + r2)**2 / 4)\n",
    "                cnt[int(game1)] += 1\n",
    "\n"
   ]
  },
  {
   "cell_type": "code",
   "execution_count": 21,
   "metadata": {},
   "outputs": [
    {
     "data": {
      "text/plain": [
       "array([[0.00000000e+00, 0.00000000e+00, 0.00000000e+00, ...,\n",
       "        0.00000000e+00, 0.00000000e+00, 0.00000000e+00],\n",
       "       [0.00000000e+00, 1.00000000e+00, 0.00000000e+00, ...,\n",
       "        1.29892897e-05, 1.29865176e-05, 0.00000000e+00],\n",
       "       [0.00000000e+00, 0.00000000e+00, 1.00000000e+00, ...,\n",
       "        8.62041836e-06, 0.00000000e+00, 0.00000000e+00],\n",
       "       ...,\n",
       "       [0.00000000e+00, 1.58737063e-05, 1.58382561e-05, ...,\n",
       "        1.00000000e+00, 0.00000000e+00, 0.00000000e+00],\n",
       "       [0.00000000e+00, 1.13287064e-05, 0.00000000e+00, ...,\n",
       "        0.00000000e+00, 1.00000000e+00, 0.00000000e+00],\n",
       "       [0.00000000e+00, 0.00000000e+00, 0.00000000e+00, ...,\n",
       "        0.00000000e+00, 0.00000000e+00, 1.00000000e+00]])"
      ]
     },
     "execution_count": 21,
     "metadata": {},
     "output_type": "execute_result"
    }
   ],
   "source": [
    "for game in games['gid']:\n",
    "    corr_matrix[int(game)] = corr_matrix[int(game)] / cnt[int(game)]\n",
    "    corr_matrix[int(game)][int(game)] = 1\n",
    "corr_matrix"
   ]
  },
  {
   "cell_type": "markdown",
   "metadata": {},
   "source": [
    "Increase correlation between games with same genre"
   ]
  },
  {
   "cell_type": "code",
   "execution_count": 30,
   "metadata": {},
   "outputs": [
    {
     "data": {
      "text/plain": [
       "array([[0.00000000e+00, 0.00000000e+00, 0.00000000e+00, ...,\n",
       "        0.00000000e+00, 0.00000000e+00, 0.00000000e+00],\n",
       "       [0.00000000e+00, 1.03204000e+03, 0.00000000e+00, ...,\n",
       "        1.29892897e-05, 1.29865176e-05, 0.00000000e+00],\n",
       "       [0.00000000e+00, 0.00000000e+00, 1.03204000e+03, ...,\n",
       "        8.62041836e-06, 0.00000000e+00, 0.00000000e+00],\n",
       "       ...,\n",
       "       [0.00000000e+00, 1.58737063e-05, 1.58382561e-05, ...,\n",
       "        1.03204000e+03, 0.00000000e+00, 0.00000000e+00],\n",
       "       [0.00000000e+00, 1.13287064e-05, 0.00000000e+00, ...,\n",
       "        0.00000000e+00, 1.03204000e+03, 0.00000000e+00],\n",
       "       [0.00000000e+00, 0.00000000e+00, 0.00000000e+00, ...,\n",
       "        0.00000000e+00, 0.00000000e+00, 1.03204000e+03]])"
      ]
     },
     "execution_count": 30,
     "metadata": {},
     "output_type": "execute_result"
    }
   ],
   "source": [
    "for genre in np.unique(games['genre']):\n",
    "    d = games[games.genre == genre].loc[:, ['gid']]\n",
    "    for i, gi in d.iterrows():\n",
    "        for j, gj in d.iterrows():\n",
    "            corr_matrix[int(gi)][int(gj)] = (corr_matrix[int(gi)][int(gj)] + .01) * 4\n",
    "corr_matrix"
   ]
  }
 ],
 "metadata": {
  "interpreter": {
   "hash": "aecd030d4c8316a52bf122072e28f84bcc79844c2684e041fef2e3f1d9f59078"
  },
  "kernelspec": {
   "display_name": "Python 3.10.2 64-bit",
   "language": "python",
   "name": "python3"
  },
  "language_info": {
   "codemirror_mode": {
    "name": "ipython",
    "version": 3
   },
   "file_extension": ".py",
   "mimetype": "text/x-python",
   "name": "python",
   "nbconvert_exporter": "python",
   "pygments_lexer": "ipython3",
   "version": "3.10.2"
  },
  "orig_nbformat": 4
 },
 "nbformat": 4,
 "nbformat_minor": 2
}
